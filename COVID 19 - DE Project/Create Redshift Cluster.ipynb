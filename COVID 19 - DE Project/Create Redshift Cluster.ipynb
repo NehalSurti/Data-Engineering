{
 "cells": [
  {
   "cell_type": "code",
   "execution_count": null,
   "id": "d34f9601",
   "metadata": {},
   "outputs": [],
   "source": [
    "# Importing libraries:\n",
    "import pandas as pd\n",
    "import boto3\n",
    "import psycopg2\n",
    "import configparser"
   ]
  },
  {
   "cell_type": "code",
   "execution_count": null,
   "id": "dfce8f33",
   "metadata": {},
   "outputs": [],
   "source": [
    "# Reading configuration file:\n",
    "config = configparser.ConfigParser()\n",
    "config.read_file(open('cluster.config'))"
   ]
  },
  {
   "cell_type": "code",
   "execution_count": null,
   "id": "5dc36371",
   "metadata": {},
   "outputs": [],
   "source": [
    "# Retrieving AWS credentials from the configuration file:\n",
    "KEY                    = config.get('AWS','KEY')\n",
    "SECRET                 = config.get('AWS','SECRET')\n",
    "\n",
    "# Retrieving Redshift cluster configuration from the configuration file:\n",
    "DWH_CLUSTER_TYPE       = config.get('DWH','DWH_CLUSTER_TYPE')\n",
    "DWH_NUM_NODES          = config.get('DWH','DWH_NUM_NODES')\n",
    "DWH_NODE_TYPE          = config.get('DWH','DWH_NODE_TYPE')\n",
    "\n",
    "DWH_CLUSTER_IDENTIFIER = config.get('DWH','DWH_CLUSTER_IDENTIFIER')\n",
    "DWH_DB                 = config.get('DWH','DWH_DB')\n",
    "DWH_DB_USER            = config.get('DWH','DWH_DB_USER')\n",
    "DWH_DB_PASSWORD        = config.get('DWH','DWH_DB_PASSWORD')\n",
    "DWH_PORT               = config.get('DWH','DWH_PORT')\n",
    "\n",
    "DWH_IAM_ROLE_NAME      = config.get('DWH','DWH_IAM_ROLE_NAME')"
   ]
  },
  {
   "cell_type": "code",
   "execution_count": null,
   "id": "9362ed06",
   "metadata": {},
   "outputs": [],
   "source": [
    "# Creating a DataFrame to store the Redshift cluster configuration parameters:\n",
    "pd.DataFrame({\"Param\":[\"DWH_CLUSTER_TYPE\",\"DWH_NUM_NODES\",\"DWH_NODE_TYPE\",\"DWH_CLUSTER_IDENTIFIER\",\"DWH_DB\",\"DWH_DB_USER\",\"DWH_DB_PASSWORD\",\"DWH_PORT\"\n",
    ",\"DWH_IAM_ROLE_NAME\"], \n",
    "              \"Value\":[DWH_CLUSTER_TYPE,DWH_NUM_NODES,DWH_NODE_TYPE,DWH_CLUSTER_IDENTIFIER,DWH_DB,DWH_DB_USER,DWH_DB_PASSWORD,DWH_PORT,DWH_IAM_ROLE_NAME]})"
   ]
  },
  {
   "cell_type": "code",
   "execution_count": null,
   "id": "4eb88006",
   "metadata": {},
   "outputs": [],
   "source": [
    "# Creating AWS clients for Redshift and IAM:\n",
    "redshift = boto3.client('redshift',\n",
    "                    region_name='eu-west-2',\n",
    "                    aws_access_key_id=KEY,\n",
    "                    aws_secret_access_key=SECRET)\n",
    "\n",
    "iam = boto3.client('iam',\n",
    "                    region_name='eu-west-2',\n",
    "                    aws_access_key_id=KEY,\n",
    "                    aws_secret_access_key=SECRET)"
   ]
  },
  {
   "cell_type": "code",
   "execution_count": null,
   "id": "2f507abb",
   "metadata": {},
   "outputs": [],
   "source": [
    "# Retrieving the IAM role ARN:\n",
    "roleArn = iam.get_role(RoleName=DWH_IAM_ROLE_NAME)['Role']['Arn']"
   ]
  },
  {
   "cell_type": "code",
   "execution_count": null,
   "id": "44a4f78d",
   "metadata": {},
   "outputs": [],
   "source": [
    "# Creating a Redshift cluster:\n",
    "try:\n",
    "    response = redshift.create_cluster(\n",
    "        ClusterType = DWH_CLUSTER_TYPE,\n",
    "        NodeType = DWH_NODE_TYPE,\n",
    "        \n",
    "        #Identifiers & Credentials\n",
    "        DBName = DWH_DB,\n",
    "        ClusterIdentifier = DWH_CLUSTER_IDENTIFIER,\n",
    "        MasterUsername = DWH_DB_USER,\n",
    "        MasterUserPassword = DWH_DB_PASSWORD,\n",
    "        \n",
    "        #Roles (for s3 access)\n",
    "        IamRoles = [roleArn]\n",
    "    )    \n",
    "except Exception as e:\n",
    "    print(e)"
   ]
  },
  {
   "cell_type": "code",
   "execution_count": null,
   "id": "196fa119",
   "metadata": {},
   "outputs": [],
   "source": [
    "# Retrieving information about the created Redshift cluster:\n",
    "redshift.describe_clusters(ClusterIdentifier=DWH_CLUSTER_IDENTIFIER)['Clusters'][0]"
   ]
  },
  {
   "cell_type": "code",
   "execution_count": null,
   "id": "a0fc4ba1",
   "metadata": {},
   "outputs": [],
   "source": [
    "# Defining a function to display selected Redshift cluster properties:\n",
    "def prettyRedshiftProps(props):\n",
    "        pd.set_option('display.max_colwidth',-1)\n",
    "        keysToShow = [\"ClusterIdentifier\",\"NodeType\",\"ClusterStatus\",\"MasterUsername\",\"DBName\",\"Endpoint\",\"VpcId\"]\n",
    "        x=[(k,v) for k,v in props.items() if k in keysToShow]\n",
    "        return pd.DataFrame(data=x, columns=[\"Key\",\"Value\"])\n",
    "\n",
    "# Calling the prettyRedshiftProps function to display the selected Redshift cluster properties:    \n",
    "myClusterProps = redshift.describe_clusters(ClusterIdentifier=DWH_CLUSTER_IDENTIFIER)['Clusters'][0]\n",
    "prettyRedshiftProps(myClusterProps)"
   ]
  },
  {
   "cell_type": "code",
   "execution_count": null,
   "id": "8fca1f98",
   "metadata": {},
   "outputs": [],
   "source": [
    "# Extracting relevant information from the Redshift cluster properties:\n",
    "DWH_ENDPOINT = myClusterProps['Endpoint']['Address']\n",
    "DWH_ROLE_ARN = myClusterProps['IamRoles'][0]['IamRoleArn']\n",
    "DB_NAME = myClusterProps['DBName']\n",
    "DB_USER = myClusterProps['MasterUsername']"
   ]
  }
 ],
 "metadata": {
  "kernelspec": {
   "display_name": "Python 3 (ipykernel)",
   "language": "python",
   "name": "python3"
  },
  "language_info": {
   "codemirror_mode": {
    "name": "ipython",
    "version": 3
   },
   "file_extension": ".py",
   "mimetype": "text/x-python",
   "name": "python",
   "nbconvert_exporter": "python",
   "pygments_lexer": "ipython3",
   "version": "3.9.13"
  }
 },
 "nbformat": 4,
 "nbformat_minor": 5
}
